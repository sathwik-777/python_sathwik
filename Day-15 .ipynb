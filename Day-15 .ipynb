{
 "cells": [
  {
   "cell_type": "code",
   "execution_count": 11,
   "id": "a2c1083a",
   "metadata": {},
   "outputs": [
    {
     "name": "stdout",
     "output_type": "stream",
     "text": [
      "Original Text: Contact us at support@example.com and sales@example.org.\n",
      "Extracted Emails: ['support@example.com', 'sales@example.org']\n"
     ]
    }
   ],
   "source": [
    "import re\n",
    "\n",
    "def extract_emails(text):\n",
    "    \"\"\"\n",
    "    Extracts all email addresses from a given text using regular expressions.\n",
    "\n",
    "    :param text: Input string\n",
    "    :return: List of extracted email addresses\n",
    "    \"\"\"\n",
    "    email_pattern = r'[a-zA-Z0-9._%+-]+@[a-zA-Z0-9.-]+\\.[a-zA-Z]{2,}'\n",
    "    emails = re.findall(email_pattern, text)  # Find all matching email addresses\n",
    "    return emails\n",
    "\n",
    "# Test the function\n",
    "input_text = 'Contact us at support@example.com and sales@example.org.'\n",
    "extracted_emails = extract_emails(input_text)\n",
    "\n",
    "# Output result\n",
    "print(\"Original Text:\", input_text)\n",
    "print(\"Extracted Emails:\", extracted_emails)\n"
   ]
  },
  {
   "cell_type": "code",
   "execution_count": null,
   "id": "876f8b71",
   "metadata": {},
   "outputs": [],
   "source": []
  }
 ],
 "metadata": {
  "kernelspec": {
   "display_name": "Python 3 (ipykernel)",
   "language": "python",
   "name": "python3"
  },
  "language_info": {
   "codemirror_mode": {
    "name": "ipython",
    "version": 3
   },
   "file_extension": ".py",
   "mimetype": "text/x-python",
   "name": "python",
   "nbconvert_exporter": "python",
   "pygments_lexer": "ipython3",
   "version": "3.10.9"
  }
 },
 "nbformat": 4,
 "nbformat_minor": 5
}
