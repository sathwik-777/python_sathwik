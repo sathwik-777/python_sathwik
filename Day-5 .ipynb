{
 "cells": [
  {
   "cell_type": "code",
   "execution_count": 3,
   "id": "68821207",
   "metadata": {},
   "outputs": [
    {
     "name": "stdout",
     "output_type": "stream",
     "text": [
      "Enter a text: hello\n",
      "\n",
      "Word Frequency:\n",
      "hello: 1\n"
     ]
    }
   ],
   "source": [
    "# Taking input from the user\n",
    "text = input(\"Enter a text: \")\n",
    "\n",
    "# Converting text to lowercase and splitting into words\n",
    "words = text.lower().split()\n",
    "\n",
    "# Creating an empty dictionary to store word frequencies\n",
    "word_count = {}\n",
    "\n",
    "# Counting occurrences of each word\n",
    "for word in words:\n",
    "    word_count[word] = word_count.get(word, 0) + 1\n",
    "\n",
    "# Printing the word frequencies\n",
    "print(\"\\nWord Frequency:\")\n",
    "for word, count in word_count.items():\n",
    "    print(f\"{word}: {count}\")\n"
   ]
  },
  {
   "cell_type": "code",
   "execution_count": null,
   "id": "fdc6915d",
   "metadata": {},
   "outputs": [],
   "source": []
  }
 ],
 "metadata": {
  "kernelspec": {
   "display_name": "Python 3 (ipykernel)",
   "language": "python",
   "name": "python3"
  },
  "language_info": {
   "codemirror_mode": {
    "name": "ipython",
    "version": 3
   },
   "file_extension": ".py",
   "mimetype": "text/x-python",
   "name": "python",
   "nbconvert_exporter": "python",
   "pygments_lexer": "ipython3",
   "version": "3.10.9"
  }
 },
 "nbformat": 4,
 "nbformat_minor": 5
}
