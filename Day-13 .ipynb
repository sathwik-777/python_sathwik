{
 "cells": [
  {
   "cell_type": "code",
   "execution_count": 10,
   "id": "20736e79",
   "metadata": {},
   "outputs": [
    {
     "name": "stdout",
     "output_type": "stream",
     "text": [
      "Original Text: Hello, World! Welcome to NLP 101.\n",
      "Cleaned Text: hello world welcome to nlp 101\n"
     ]
    }
   ],
   "source": [
    "import re\n",
    "\n",
    "def clean_text(text):\n",
    "    \"\"\"\n",
    "    Cleans the given text by:\n",
    "    - Converting it to lowercase\n",
    "    - Removing special characters (except spaces)\n",
    "    \n",
    "    :param text: Input string\n",
    "    :return: Cleaned text\n",
    "    \"\"\"\n",
    "    text = text.lower()  # Convert to lowercase\n",
    "    text = re.sub(r'[^a-z0-9\\s]', '', text)  # Remove special characters except spaces\n",
    "    return text\n",
    "\n",
    "# Test the function\n",
    "input_text = 'Hello, World! Welcome to NLP 101.'\n",
    "cleaned_text = clean_text(input_text)\n",
    "\n",
    "# Output result\n",
    "print(\"Original Text:\", input_text)\n",
    "print(\"Cleaned Text:\", cleaned_text)\n"
   ]
  },
  {
   "cell_type": "code",
   "execution_count": null,
   "id": "761f929a",
   "metadata": {},
   "outputs": [],
   "source": []
  }
 ],
 "metadata": {
  "kernelspec": {
   "display_name": "Python 3 (ipykernel)",
   "language": "python",
   "name": "python3"
  },
  "language_info": {
   "codemirror_mode": {
    "name": "ipython",
    "version": 3
   },
   "file_extension": ".py",
   "mimetype": "text/x-python",
   "name": "python",
   "nbconvert_exporter": "python",
   "pygments_lexer": "ipython3",
   "version": "3.10.9"
  }
 },
 "nbformat": 4,
 "nbformat_minor": 5
}
