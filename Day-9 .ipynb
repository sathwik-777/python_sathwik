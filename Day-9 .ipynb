{
 "cells": [
  {
   "cell_type": "code",
   "execution_count": null,
   "id": "b61fb154",
   "metadata": {},
   "outputs": [],
   "source": [
    "pip install gensim nltk spacy\n"
   ]
  },
  {
   "cell_type": "code",
   "execution_count": null,
   "id": "80940ea0",
   "metadata": {},
   "outputs": [],
   "source": [
    "import nltk\n",
    "nltk.download('punkt')\n",
    "nltk.download('wordnet')\n",
    "\n",
    "import spacy\n",
    "spacy.cli.download(\"en_core_web_sm\")\n"
   ]
  },
  {
   "cell_type": "code",
   "execution_count": null,
   "id": "efde797c",
   "metadata": {},
   "outputs": [],
   "source": [
    "import gensim\n",
    "import nltk\n",
    "import spacy\n",
    "from gensim.utils import simple_preprocess\n",
    "from nltk.stem import PorterStemmer\n",
    "from nltk.tokenize import word_tokenize\n",
    "from nltk.corpus import stopwords\n",
    "from nltk.stem import WordNetLemmatizer\n",
    "\n",
    "# Load SpaCy English model\n",
    "nlp = spacy.load(\"en_core_web_sm\")\n",
    "\n",
    "# Load stopwords\n",
    "nltk.download(\"stopwords\")\n",
    "stop_words = set(stopwords.words(\"english\"))\n",
    "\n",
    "# Initialize stemmer and lemmatizer\n",
    "stemmer = PorterStemmer()\n",
    "lemmatizer = WordNetLemmatizer()\n",
    "\n",
    "# Sample text (can be read from a file)\n",
    "text = \"\"\"Gensim is a useful NLP library. It helps in text processing, \n",
    "including tokenization, stemming, and lemmatization. This script demonstrates basic preprocessing steps.\"\"\"\n",
    "\n",
    "# Step 1: Tokenization using Gensim\n",
    "tokens = simple_preprocess(text)\n",
    "\n",
    "# Step 2: Remove stopwords\n",
    "filtered_tokens = [word for word in tokens if word not in stop_words]\n",
    "\n",
    "# Step 3: Stemming using NLTK\n",
    "stemmed_tokens = [stemmer.stem(word) for word in filtered_tokens]\n",
    "\n",
    "# Step 4: Lemmatization using SpaCy\n",
    "doc = nlp(\" \".join(filtered_tokens))\n",
    "lemmatized_tokens = [token.lemma_ for token in doc]\n",
    "\n",
    "# Output results\n",
    "print(\"Original Text:\", text)\n",
    "print(\"\\nTokenized:\", tokens)\n",
    "print(\"\\nWithout Stopwords:\", filtered_tokens)\n",
    "print(\"\\nStemmed:\", stemmed_tokens)\n",
    "print(\"\\nLemmatized:\", lemmatized_tokens)\n"
   ]
  },
  {
   "cell_type": "code",
   "execution_count": null,
   "id": "34e9a9aa",
   "metadata": {},
   "outputs": [],
   "source": []
  }
 ],
 "metadata": {
  "kernelspec": {
   "display_name": "Python 3 (ipykernel)",
   "language": "python",
   "name": "python3"
  },
  "language_info": {
   "codemirror_mode": {
    "name": "ipython",
    "version": 3
   },
   "file_extension": ".py",
   "mimetype": "text/x-python",
   "name": "python",
   "nbconvert_exporter": "python",
   "pygments_lexer": "ipython3",
   "version": "3.10.9"
  }
 },
 "nbformat": 4,
 "nbformat_minor": 5
}
