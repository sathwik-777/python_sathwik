{
  "nbformat": 4,
  "nbformat_minor": 0,
  "metadata": {
    "colab": {
      "provenance": [],
      "gpuType": "T4"
    },
    "kernelspec": {
      "name": "python3",
      "display_name": "Python 3"
    },
    "language_info": {
      "name": "python"
    },
    "accelerator": "GPU"
  },
  "cells": [
    {
      "cell_type": "code",
      "execution_count": 8,
      "metadata": {
        "id": "HoBsziqRXkxM"
      },
      "outputs": [],
      "source": [
        "import google.generativeai as genai\n",
        "from google.colab import userdata\n",
        "GOOGLE_API_KEY=userdata.get('GOOGLE_API_KEY')\n",
        "genai.configure(api_key=GOOGLE_API_KEY)"
      ]
    },
    {
      "cell_type": "code",
      "source": [
        "import pathlib\n",
        "import textwrap\n",
        "from IPython.display import display, Markdown\n",
        "def to_markdown(text):\n",
        "  text = text.replace('*',' *')\n",
        "  return Markdown(textwrap.indent(text, '> ',predicate=lambda _: True))"
      ],
      "metadata": {
        "id": "OXFISMZmX4l4"
      },
      "execution_count": 9,
      "outputs": []
    },
    {
      "cell_type": "code",
      "source": [
        "import PIL.Image\n",
        "\n",
        "img=PIL.Image.open('image1.jpg')\n",
        "img\n",
        "model=genai.GenerativeModel('gemini-1.5-flash')\n",
        "response=model.generate_content([\"Write a short, engaging blog post based on this picture. It should include a description of the meal inthe photo and talk about my journey meal preparing.\",img], stream=True )\n",
        "response.resolve()"
      ],
      "metadata": {
        "id": "m_JgaapcZF4u"
      },
      "execution_count": 11,
      "outputs": []
    },
    {
      "cell_type": "code",
      "source": [
        "import pathlib\n",
        "import textwrap\n",
        "from IPython.display import display, Markdown\n",
        "def to_markdown(text):\n",
        "  text = text.replace('•', '  *')\n",
        "  return Markdown(textwrap.indent(text, '> ', predicate=lambda _: True))"
      ],
      "metadata": {
        "id": "RBHYxNclbzws"
      },
      "execution_count": 12,
      "outputs": []
    },
    {
      "cell_type": "code",
      "source": [
        "to_markdown(response.text)"
      ],
      "metadata": {
        "colab": {
          "base_uri": "https://localhost:8080/",
          "height": 454
        },
        "id": "FG9fIxjXeIny",
        "outputId": "8f51d9a6-8a98-4551-f8ac-ac8f412c4a29"
      },
      "execution_count": 13,
      "outputs": [
        {
          "output_type": "execute_result",
          "data": {
            "text/plain": [
              "<IPython.core.display.Markdown object>"
            ],
            "text/markdown": "> ## My Healthy Eating Journey: One Delicious Meal Prep at a Time!\n> \n> Hello, fellow foodies!  Today I'm sharing a peek into my recent meal prep adventures. As you can see from the picture, I've whipped up two gorgeous containers of teriyaki chicken and veggies.  Each one is a perfect balance of fluffy white rice, tender chunks of teriyaki chicken, vibrant orange and red bell peppers, and healthy servings of broccoli. It's colorful, it’s delicious, and it’s the perfect fuel for a busy week!\n> \n> \n> My journey with meal prepping hasn’t always been smooth sailing.  Initially, I struggled to find recipes that were both healthy and tasted amazing. There were definitely a few culinary mishaps along the way (let's just say some experiments were... less successful than others!).  But I persevered, learning to balance flavors and experiment with different cooking techniques.\n> \n> \n> The key to my success has been finding simple, adaptable recipes. This teriyaki chicken recipe, for example, is incredibly versatile; I can easily swap out the vegetables based on what’s fresh at the market that week. The biggest win has been the time saved - prepping these meals on a Sunday means stress-free lunches and dinners for the rest of the week.  Plus, it makes sticking to a healthy diet so much easier!\n> \n> \n> So, if you're just starting your own meal prep journey, don't be discouraged by initial challenges. Embrace the experimentation, discover your favorite recipes, and most importantly, enjoy the process of creating delicious and healthy meals for yourself!  Happy cooking!\n"
          },
          "metadata": {},
          "execution_count": 13
        }
      ]
    },
    {
      "cell_type": "code",
      "source": [
        "response = model.generate_content([\"Generate an caption for this image.\", img])\n",
        "print(response.text)"
      ],
      "metadata": {
        "colab": {
          "base_uri": "https://localhost:8080/",
          "height": 401
        },
        "id": "hEaiIDngeLTS",
        "outputId": "5d23bd7d-2ff7-4984-e6da-0115870f734c"
      },
      "execution_count": 14,
      "outputs": [
        {
          "output_type": "stream",
          "name": "stdout",
          "text": [
            "Here are a few caption options for the image of two meal prep containers:\n",
            "\n",
            "**Option 1 (Short & Sweet):**\n",
            "\n",
            "> Healthy and delicious meal prep!  😋\n",
            "\n",
            "**Option 2 (More Descriptive):**\n",
            "\n",
            ">  Chicken and broccoli stir-fry with rice.  Perfect for a quick and nutritious lunch or dinner.  #mealprep #healthyfood #chickenstirfry #easyrecipe\n",
            "\n",
            "**Option 3 (Focus on Convenience):**\n",
            "\n",
            ">  Goodbye takeout, hello healthy eating!  These meal prepped containers make healthy choices so easy. #mealprepsunday #healthylifestyle #convenientmeals\n",
            "\n",
            "**Option 4 (A Question to Engage Audience):**\n",
            "\n",
            "> What's your favorite healthy meal prep recipe?  Share in the comments! 👇 #mealprepideas #healthyfoodshare #foodie\n",
            "\n",
            "\n",
            "Choose the caption that best suits your style and audience.  You can also adapt these options to better reflect your personal brand.\n",
            "\n"
          ]
        }
      ]
    },
    {
      "cell_type": "code",
      "source": [
        "from PIL import Image\n",
        "image_path = \"girl.jpg\"\n",
        "image = Image.open(image_path)\n",
        "response = model.generate_content([\"Describe this image in details.\", image])\n",
        "print(response.text)"
      ],
      "metadata": {
        "colab": {
          "base_uri": "https://localhost:8080/",
          "height": 315
        },
        "id": "6y3pIKl-esyE",
        "outputId": "67ba65bd-4050-463b-80fe-f8e1db7255c3"
      },
      "execution_count": 15,
      "outputs": [
        {
          "output_type": "stream",
          "name": "stdout",
          "text": [
            "Here's a description of the image:\n",
            "\n",
            "Close-up view of a woman with medium-length, curly brown hair. \n",
            "\n",
            "\n",
            "She is smiling and pointing to her left with her right index finger. Her expression is friendly and inviting. \n",
            "\n",
            "\n",
            "She's wearing a teal-colored, three-quarter-sleeved tunic or top with a subtle gold print or pattern. The pattern seems to be small, repeated floral or paisley-like motifs. The top has a simple, slightly open neckline.\n",
            "\n",
            "\n",
            "The background is a plain, bright white, which keeps the focus entirely on the woman. The lighting is soft and even, avoiding harsh shadows on her face. \n",
            "\n",
            "\n",
            "The overall impression is one of a positive, approachable individual. The image appears to be a professional headshot or promotional photo.\n",
            "\n"
          ]
        }
      ]
    },
    {
      "cell_type": "code",
      "source": [
        "response = model.generate_content([\"what emotion can you detect in the image?\",image])\n",
        "print(response.text)"
      ],
      "metadata": {
        "colab": {
          "base_uri": "https://localhost:8080/",
          "height": 54
        },
        "id": "lDJWhufOgok4",
        "outputId": "92bb91d8-06b4-4602-a95d-5f06410bb5c4"
      },
      "execution_count": 16,
      "outputs": [
        {
          "output_type": "stream",
          "name": "stdout",
          "text": [
            "The woman in the image appears to be expressing **confidence** and possibly **helpfulness** or **guidance**.  Her gesture (pointing) and facial expression (a slight smile) suggest she's offering information or direction.\n"
          ]
        }
      ]
    },
    {
      "cell_type": "code",
      "source": [],
      "metadata": {
        "id": "WKH3QzR0hkok"
      },
      "execution_count": null,
      "outputs": []
    }
  ]
}