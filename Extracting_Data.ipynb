{
  "nbformat": 4,
  "nbformat_minor": 0,
  "metadata": {
    "colab": {
      "provenance": []
    },
    "kernelspec": {
      "name": "python3",
      "display_name": "Python 3"
    },
    "language_info": {
      "name": "python"
    }
  },
  "cells": [
    {
      "cell_type": "code",
      "execution_count": 1,
      "metadata": {
        "colab": {
          "base_uri": "https://localhost:8080/"
        },
        "id": "TN8VIVJ3jITl",
        "outputId": "53b600c2-7e42-4a7e-9c15-2ebcb589ee32"
      },
      "outputs": [
        {
          "output_type": "stream",
          "name": "stdout",
          "text": [
            "Collecting PyPDF2\n",
            "  Downloading pypdf2-3.0.1-py3-none-any.whl.metadata (6.8 kB)\n",
            "Downloading pypdf2-3.0.1-py3-none-any.whl (232 kB)\n",
            "\u001b[?25l   \u001b[90m━━━━━━━━━━━━━━━━━━━━━━━━━━━━━━━━━━━━━━━━\u001b[0m \u001b[32m0.0/232.6 kB\u001b[0m \u001b[31m?\u001b[0m eta \u001b[36m-:--:--\u001b[0m\r\u001b[2K   \u001b[91m━━━━━━━━━━━━━━━━━━━━━━━━━━━━━━━━━\u001b[0m\u001b[90m╺\u001b[0m\u001b[90m━━━━━━\u001b[0m \u001b[32m194.6/232.6 kB\u001b[0m \u001b[31m5.7 MB/s\u001b[0m eta \u001b[36m0:00:01\u001b[0m\r\u001b[2K   \u001b[90m━━━━━━━━━━━━━━━━━━━━━━━━━━━━━━━━━━━━━━━━\u001b[0m \u001b[32m232.6/232.6 kB\u001b[0m \u001b[31m3.5 MB/s\u001b[0m eta \u001b[36m0:00:00\u001b[0m\n",
            "\u001b[?25hInstalling collected packages: PyPDF2\n",
            "Successfully installed PyPDF2-3.0.1\n"
          ]
        }
      ],
      "source": [
        "!pip install PyPDF2"
      ]
    },
    {
      "cell_type": "code",
      "source": [
        "import PyPDF2\n",
        "from PyPDF2 import PdfFileReader"
      ],
      "metadata": {
        "id": "nVwrp75GjPyy"
      },
      "execution_count": 2,
      "outputs": []
    },
    {
      "cell_type": "code",
      "source": [
        "pdf = open(\"/content/file1pdf.pdf\",\"rb\")\n",
        "pdf_reader = PyPDF2.PdfReader(pdf)\n",
        "print(\"Number of pages:\",len(pdf_reader.pages))\n",
        "page = pdf_reader.pages[1]\n",
        "print(page.extract_text())\n",
        "pdf.close()"
      ],
      "metadata": {
        "colab": {
          "base_uri": "https://localhost:8080/"
        },
        "id": "6IKOiNpljkpe",
        "outputId": "cf754657-29b5-4377-962f-031335441730"
      },
      "execution_count": 6,
      "outputs": [
        {
          "output_type": "stream",
          "name": "stdout",
          "text": [
            "Number of pages: 35\n",
            " \n",
            " \n",
            " Development  Plan for Greater Mumbai 2014‐2034                                                                                                                                                                                                                                                      \n",
            "Acknowledgements  \n",
            "The Consultant  wishes to thank the following  individuals  from the Municipal  Corporation  of \n",
            "Greater Mumbai for their invaluable  support, insights and contributions  towards ‘Working  Paper 1 \n",
            "– Preparation  of Base Map’ for the preparation  of the Development  Plan for Greater Mumbai \n",
            "2014‐34. \n",
            " Mr. Subodh Kumar, IAS, Municipal  Commissioner;  \n",
            " Mr. Rajeev Kuknoor, Chief Engineer Development  Plan; \n",
            " Mr. Sudhir Ghate, Deputy Chief Engineer Development  Plan; \n",
            " Mr. A.G. Marathe, Deputy Chief Engineer Development  Plan; \n",
            " Mr. R. Balachandran,  Executive  Engineer and Town Planning Officer, Development  Plan. \n",
            " Our gratitude  to the following  experts for their invaluable  insights and support: \n",
            " \n",
            "Mr. V.K Phatak, Former Chief Town Planner (MMRDA);  \n",
            " Mr. A.N Kale, Former Chief Engineer, (DP); \n",
            " Mr. A. S Jain Former Dy. Chief Engineer, (DP). \n",
            " We wish to especially  thank MCGM officers, Mr. Jagdish Talreja, Mr. Dinesh Naik, Mr. Hiren \n",
            "Daftardar,  Ms. Anita Naik for their continual  support since the\n",
            " beginning  of the project and their \n",
            "help towards familiarization  and data collection.  They have been instrumental  in helping to \n",
            "contact various MCGM departments  as well as in helping to establish contact with personnel  from \n",
            "other government  departments  and organizations.  Many thanks for the MCGM team, for \n",
            "deploying  personnel,  particularly  Mr. Prasad Gharat, on extensive  field visits that have helped in \n",
            "understanding  actual ground conditions.  \n",
            " \n",
            "We apologize  if we have inadvertently  omitted anyone to whom acknowledgement  is due. We hope \n",
            "and anticipate  the work's usefulness  for the intended purpose. \n",
            " \n"
          ]
        }
      ]
    },
    {
      "cell_type": "code",
      "source": [
        "import PyPDF2, urllib , nltk\n",
        "from io import BytesIO\n",
        "from nltk.tokenize import word_tokenize\n",
        "from nltk.corpus import stopwords"
      ],
      "metadata": {
        "id": "_BJAXAPzjyZ2"
      },
      "execution_count": 7,
      "outputs": []
    },
    {
      "cell_type": "code",
      "source": [
        "wFile = urllib.request.urlopen('http://www.udri.org/pdf/02%20working%20paper%201.pdf')\n",
        "pdfreader = PyPDF2.PdfReader(BytesIO(wFile.read()))"
      ],
      "metadata": {
        "id": "Hj3jVVSek2bZ"
      },
      "execution_count": 8,
      "outputs": []
    },
    {
      "cell_type": "code",
      "source": [
        "import nltk\n",
        "nltk.download('punkt_tab')"
      ],
      "metadata": {
        "colab": {
          "base_uri": "https://localhost:8080/"
        },
        "id": "W-eUkBrqoJO0",
        "outputId": "26acf6ad-3521-44d8-f491-818fe75bd799"
      },
      "execution_count": 10,
      "outputs": [
        {
          "output_type": "stream",
          "name": "stderr",
          "text": [
            "[nltk_data] Downloading package punkt_tab to /root/nltk_data...\n",
            "[nltk_data]   Unzipping tokenizers/punkt_tab.zip.\n"
          ]
        },
        {
          "output_type": "execute_result",
          "data": {
            "text/plain": [
              "True"
            ]
          },
          "metadata": {},
          "execution_count": 10
        }
      ]
    },
    {
      "cell_type": "code",
      "source": [
        "import nltk\n",
        "nltk.download('stopwords')"
      ],
      "metadata": {
        "colab": {
          "base_uri": "https://localhost:8080/"
        },
        "id": "fWMd0TTFoOuT",
        "outputId": "7f8256ae-67f9-4865-9fc6-8e60008249a5"
      },
      "execution_count": 12,
      "outputs": [
        {
          "output_type": "stream",
          "name": "stderr",
          "text": [
            "[nltk_data] Downloading package stopwords to /root/nltk_data...\n",
            "[nltk_data]   Unzipping corpora/stopwords.zip.\n"
          ]
        },
        {
          "output_type": "execute_result",
          "data": {
            "text/plain": [
              "True"
            ]
          },
          "metadata": {},
          "execution_count": 12
        }
      ]
    },
    {
      "cell_type": "code",
      "source": [
        "pageObj = pdfreader.pages[2]\n",
        "page2 = pageObj.extract_text()\n",
        "punctuations = ['(',')',';',':','[',']',',','...','.']\n",
        "tokens = word_tokenize(page2)\n",
        "stop_words = stopwords.words('english')\n",
        "keywords = [word for word in tokens if not word in stop_words and not word in punctuations]"
      ],
      "metadata": {
        "id": "bXYV3Camk7-b"
      },
      "execution_count": 13,
      "outputs": []
    },
    {
      "cell_type": "code",
      "source": [
        "keywords"
      ],
      "metadata": {
        "colab": {
          "base_uri": "https://localhost:8080/"
        },
        "id": "0LMPKvzaoC1s",
        "outputId": "b3594243-24ca-4bf4-cc46-edc47bf0d121"
      },
      "execution_count": 14,
      "outputs": [
        {
          "output_type": "execute_result",
          "data": {
            "text/plain": [
              "['Development',\n",
              " 'Plan',\n",
              " 'Greater',\n",
              " 'Mumbai',\n",
              " '2014‐2034',\n",
              " 'Table',\n",
              " 'Contents',\n",
              " 'The',\n",
              " 'Consultant',\n",
              " 'wishes',\n",
              " 'thank',\n",
              " 'following',\n",
              " 'individuals',\n",
              " 'Municipal',\n",
              " 'Corporation',\n",
              " 'Greater',\n",
              " 'Mumbai',\n",
              " 'invaluable',\n",
              " 'support',\n",
              " 'insights',\n",
              " 'contributions',\n",
              " 'towards',\n",
              " '‘',\n",
              " 'Working',\n",
              " 'Paper',\n",
              " '1',\n",
              " '–',\n",
              " 'Preparation',\n",
              " 'Base',\n",
              " 'Map',\n",
              " '’',\n",
              " 'preparation',\n",
              " 'Development',\n",
              " 'Plan',\n",
              " 'Greater',\n",
              " 'Mumbai',\n",
              " '2014‐34',\n",
              " '.............................................................................................................................',\n",
              " '..............',\n",
              " '3',\n",
              " 'Our',\n",
              " 'gratitude',\n",
              " 'following',\n",
              " 'experts',\n",
              " 'invaluable',\n",
              " 'insights',\n",
              " 'support',\n",
              " '............................',\n",
              " '3',\n",
              " 'We',\n",
              " 'wish',\n",
              " 'especially',\n",
              " 'thank',\n",
              " 'MCGM',\n",
              " 'officers',\n",
              " 'Mr.',\n",
              " 'Jagdish',\n",
              " 'Talreja',\n",
              " 'Mr.',\n",
              " 'Dinesh',\n",
              " 'Naik',\n",
              " 'Mr.',\n",
              " 'Hiren',\n",
              " 'Daftardar',\n",
              " 'Ms.',\n",
              " 'Anita',\n",
              " 'Naik',\n",
              " 'continual',\n",
              " 'support',\n",
              " 'since',\n",
              " 'beginning',\n",
              " 'project',\n",
              " 'help',\n",
              " 'towards',\n",
              " 'familiarization',\n",
              " 'data',\n",
              " 'collection',\n",
              " 'They',\n",
              " 'instrumental',\n",
              " 'helping',\n",
              " 'contact',\n",
              " 'various',\n",
              " 'MCGM',\n",
              " 'departments',\n",
              " 'well',\n",
              " 'helping',\n",
              " 'establish',\n",
              " 'contact',\n",
              " 'personnel',\n",
              " 'government',\n",
              " 'departments',\n",
              " 'organizations',\n",
              " 'Many',\n",
              " 'thanks',\n",
              " 'MCGM',\n",
              " 'team',\n",
              " 'deploying',\n",
              " 'personnel',\n",
              " 'particularly',\n",
              " 'Mr.',\n",
              " 'Prasad',\n",
              " 'Gharat',\n",
              " 'extensive',\n",
              " 'field',\n",
              " 'visits',\n",
              " 'helped',\n",
              " 'understanding',\n",
              " 'actual',\n",
              " 'ground',\n",
              " 'conditions',\n",
              " '........................................................................................',\n",
              " '3',\n",
              " 'BEST',\n",
              " '...............................................................................................................................',\n",
              " '.................',\n",
              " '5',\n",
              " 'Brihanmumbai',\n",
              " 'Electric',\n",
              " 'Supply',\n",
              " 'Transport',\n",
              " 'Undertaking',\n",
              " '..............................................................',\n",
              " '5',\n",
              " 'CIDCO',\n",
              " '...............................................................................................................................',\n",
              " '..............',\n",
              " '5',\n",
              " 'City',\n",
              " 'Industrial',\n",
              " 'Development',\n",
              " 'Corporation',\n",
              " '...............................................................................',\n",
              " '5',\n",
              " 'CTP',\n",
              " '...............................................................................................................................',\n",
              " '..................',\n",
              " '5',\n",
              " 'Comprehensive',\n",
              " 'Transportation',\n",
              " 'Plan',\n",
              " '...............................................................................................',\n",
              " '5',\n",
              " 'DP',\n",
              " '...............................................................................................................................',\n",
              " '....................',\n",
              " '5',\n",
              " 'Development',\n",
              " 'Plan',\n",
              " '..........................................................................................................................',\n",
              " '5',\n",
              " 'DPGM34',\n",
              " '...............................................................................................................................',\n",
              " '..........',\n",
              " '5',\n",
              " 'Development',\n",
              " 'Plan',\n",
              " 'Greater',\n",
              " 'Mumbai',\n",
              " '2034',\n",
              " '.......................................................................................',\n",
              " '5',\n",
              " 'DCR',\n",
              " '...............................................................................................................................',\n",
              " '..................',\n",
              " '5',\n",
              " 'Development',\n",
              " 'Control',\n",
              " 'Regulations',\n",
              " '...................................................................................................',\n",
              " '5',\n",
              " 'DGPS',\n",
              " '...........................................................................................................................',\n",
              " '....................',\n",
              " '5',\n",
              " 'Digital',\n",
              " 'Global',\n",
              " 'Positioning',\n",
              " 'System',\n",
              " '...................................................................................................',\n",
              " '5',\n",
              " 'DPGM',\n",
              " '...............................................................................................................................',\n",
              " '..............',\n",
              " '5',\n",
              " 'Development',\n",
              " 'Plan',\n",
              " 'Greater',\n",
              " 'Mumbai',\n",
              " '...........................................................................................',\n",
              " '5',\n",
              " 'ELU',\n",
              " '...............................................................................................................................',\n",
              " '..................',\n",
              " '5',\n",
              " 'Existing',\n",
              " 'Land',\n",
              " 'use',\n",
              " '.............................................................................................................................',\n",
              " '5',\n",
              " 'FSI',\n",
              " '...............................................................................................................................',\n",
              " '....................',\n",
              " '5',\n",
              " 'Floor',\n",
              " 'Space',\n",
              " 'Index',\n",
              " '............................................................................................................................',\n",
              " '5',\n",
              " 'GIS',\n",
              " '...............................................................................................................................',\n",
              " '...................',\n",
              " '5']"
            ]
          },
          "metadata": {},
          "execution_count": 14
        }
      ]
    },
    {
      "cell_type": "code",
      "source": [
        "name_list = list()\n",
        "check =  ['Mr.', 'Mrs.', 'Ms.']\n",
        "for idx, token in enumerate(tokens):\n",
        "    if token.startswith(tuple(check)) and idx < (len(tokens)-1):\n",
        "        name = token + tokens[idx+1] + ' ' +  tokens[idx+2]\n",
        "        name_list.append(name)\n",
        "print(name_list)"
      ],
      "metadata": {
        "colab": {
          "base_uri": "https://localhost:8080/"
        },
        "id": "6MzHOgqvoT36",
        "outputId": "3be72bd5-3e8d-4fa0-fa0d-fd88581a9a28"
      },
      "execution_count": 15,
      "outputs": [
        {
          "output_type": "stream",
          "name": "stdout",
          "text": [
            "['Mr.Jagdish Talreja', 'Mr.Dinesh Naik', 'Mr.Hiren Daftardar', 'Ms.Anita Naik', 'Mr.Prasad Gharat']\n"
          ]
        }
      ]
    },
    {
      "cell_type": "code",
      "source": [
        "!pip install python-docx"
      ],
      "metadata": {
        "colab": {
          "base_uri": "https://localhost:8080/"
        },
        "id": "DoTt64H9q0mb",
        "outputId": "6d702d03-cd12-4031-ecb0-be53e303498f"
      },
      "execution_count": 16,
      "outputs": [
        {
          "output_type": "stream",
          "name": "stdout",
          "text": [
            "Collecting python-docx\n",
            "  Downloading python_docx-1.1.2-py3-none-any.whl.metadata (2.0 kB)\n",
            "Requirement already satisfied: lxml>=3.1.0 in /usr/local/lib/python3.11/dist-packages (from python-docx) (5.3.0)\n",
            "Requirement already satisfied: typing-extensions>=4.9.0 in /usr/local/lib/python3.11/dist-packages (from python-docx) (4.12.2)\n",
            "Downloading python_docx-1.1.2-py3-none-any.whl (244 kB)\n",
            "\u001b[2K   \u001b[90m━━━━━━━━━━━━━━━━━━━━━━━━━━━━━━━━━━━━━━━━\u001b[0m \u001b[32m244.3/244.3 kB\u001b[0m \u001b[31m3.7 MB/s\u001b[0m eta \u001b[36m0:00:00\u001b[0m\n",
            "\u001b[?25hInstalling collected packages: python-docx\n",
            "Successfully installed python-docx-1.1.2\n"
          ]
        }
      ]
    },
    {
      "cell_type": "code",
      "source": [
        "import docx"
      ],
      "metadata": {
        "id": "RWBg9DlFrdLQ"
      },
      "execution_count": 18,
      "outputs": []
    },
    {
      "cell_type": "code",
      "source": [
        "doc = open(\"/content/survey.docx\",\"rb\")\n",
        "document = docx.Document(doc)"
      ],
      "metadata": {
        "id": "U3fDiXUyriBo"
      },
      "execution_count": 22,
      "outputs": []
    },
    {
      "cell_type": "code",
      "source": [
        "docu=\"\"\n",
        "for para in document.paragraphs:\n",
        "    docu += para.text\n",
        "print(docu)"
      ],
      "metadata": {
        "colab": {
          "base_uri": "https://localhost:8080/"
        },
        "id": "xsVCTMtStzsk",
        "outputId": "e7548f36-cbbb-4443-9901-fe92dd412c30"
      },
      "execution_count": 24,
      "outputs": [
        {
          "output_type": "stream",
          "name": "stdout",
          "text": [
            "Title: Enhancing SMS Security with NLP-Based Spam Detection Batch & Section: GT-16 & GammaLiterature SurveyTitle1. SMS Spam Detection and Classification to Combat Abuse in Telephone Networks Using Natural Language ProcessingAuthors: Dare Azeez Oyeyemi, Adebola K. Ojo\n",
            "Summary: This study introduces an NLP-based approach to detect and classify SMS spam using machine learning models, particularly BERT. Preprocessing techniques such as stop word removal and tokenization are applied, followed by feature extraction using BERT. Various machine learning models, including Naïve Bayes, SVM, and Logistic Regression, are integrated with BERT. Results show that the Naïve Bayes classifier with BERT achieves the highest accuracy of 97.31%.\n",
            "Disadvantages: The study does not address the computational complexity of BERT-based models, making real-time deployment challenging.\n",
            "Reference: Oyeyemi, D. A., & Ojo, A. K. (2022). SMS Spam Detection and Classification Using NLP. International Journal of Computer Science and Security, 18(3), 45-58.2. ExplainableDetector: Exploring Transformer-Based Language Modeling Approach for SMS Spam Detection with Explainability AnalysisAuthors: Mohammad Amaz Uddin, Muhammad Nazrul Islam, Leandros Maglaras, Helge Janicke, Iqbal H. Sarker\n",
            "Summary: This research employs transformer-based language models for spam detection. A benchmark SMS spam dataset is preprocessed, and class imbalance is handled using text augmentation. Fine-tuned RoBERTa achieves an accuracy of 99.84%. Explainable AI (XAI) techniques are applied to make the detection process more interpretable.\n",
            "Disadvantages: While model explainability is improved, the study does not discuss practical deployment challenges in low-resource environments.\n",
            "Reference: Uddin, M. A., Islam, M. N., Maglaras, L., Janicke, H., & Sarker, I. H. (2023). Explainable AI for SMS Spam Detection. Journal of Artificial Intelligence Research, 35(2), 112-130.3. Using BERT Encoding to Tackle the Mad-lib Attack in SMS Spam DetectionAuthors: John Doe, Alice Smith\n",
            "Summary: This paper examines the impact of adversarial attacks, such as the Mad-lib attack, on SMS spam detection models. The study proposes a BERT-based model that adapts dynamically to adversarial inputs, improving robustness against obfuscated spam messages.\n",
            "Disadvantages: The approach requires large computational power, making real-time processing difficult.\n",
            "Reference: Doe, J., & Smith, A. (2022). BERT Encoding for Robust SMS Spam Detection. IEEE Transactions on Information Security, 29(4), 199-214.4. Hybrid NLP Models for Spam Detection in SMS CommunicationAuthors: [Authors' names]\n",
            "Summary: This study explores hybrid NLP models combining traditional machine learning techniques (like SVM, Naïve Bayes) with deep learning approaches (like LSTM, CNN). The goal is to enhance the accuracy of spam detection by leveraging the strengths of both methods.\n",
            "Disadvantages: Hybrid models can be more computationally expensive and require fine-tuning to optimize performance.\n",
            "Reference: [Authors' names]. (Year). Hybrid NLP Models for Spam Detection. [Journal Name], Volume, [Page Numbers].5. BERT-Based SMS Spam Classification for Enhanced Mobile SecurityAuthors: [Authors' names]\n",
            "Summary: This research demonstrates how BERT-based models can be applied to SMS spam classification to enhance mobile security. It leverages BERT’s context understanding to improve detection accuracy.\n",
            "Disadvantages: The BERT model’s computational complexity could make it challenging for real-time applications.\n",
            "Reference: [Authors' names]. (Year). BERT-Based SMS Spam Classification. [Journal Name], Volume, [Page Numbers].6. Federated Learning for Privacy-Preserving SMS Spam DetectionAuthors: [Authors' names]\n",
            "Summary: This paper proposes using federated learning to train SMS spam detection models across multiple devices without sharing user data, ensuring privacy and security.\n",
            "Disadvantages: Federated learning can suffer from slower convergence and requires effective handling of model synchronization.\n",
            "Reference: [Authors' names]. (Year). Federated Learning for Privacy-Preserving SMS Spam Detection. [Journal Name], Volume, [Page Numbers].7. Real-Time SMS Spam Filtering Using Lightweight NLP TechniquesAuthors: [Authors' names]\n",
            "Summary: This study focuses on developing real-time SMS spam filtering models using lightweight NLP techniques like fast text embedding and shallow neural networks to reduce processing time.\n",
            "Disadvantages: Lightweight models may trade off some accuracy for speed.\n",
            "Reference: [Authors' names]. (Year). Real-Time SMS Spam Filtering Using Lightweight NLP Techniques. [Journal Name], Volume, [Page Numbers].8. Improving SMS Spam Detection with Explainable AI (XAI) ModelsAuthors: [Authors' names]\n",
            "Summary: This paper investigates the application of Explainable AI (XAI) techniques for SMS spam detection. The goal is to increase model transparency and user trust in AI-based filtering systems.\n",
            "Disadvantages: XAI techniques may introduce additional complexity and reduce model accuracy.\n",
            "Reference: [Authors' names]. (Year). Improving SMS Spam Detection with XAI Models. [Journal Name], Volume, [Page Numbers].9. Context-Aware SMS Spam Detection Using Named Entity Recognition (NER)Authors: [Authors' names]\n",
            "Summary: The paper proposes using Named Entity Recognition (NER) to identify specific entities (e.g., company names, product names) in SMS and improve spam detection by considering the context.\n",
            "Disadvantages: NER models are sensitive to language variation and could lead to misclassification in non-standard text formats.\n",
            "Reference: [Authors' names]. (Year). Context-Aware SMS Spam Detection Using NER. [Journal Name], Volume, [Page Numbers].10. Adversarial Attacks and Defense Mechanisms in NLP-Based SMS Spam FilteringAuthors: [Authors' names]\n",
            "Summary: This research discusses adversarial attacks on NLP-based spam filters and proposes defense mechanisms such as adversarial training to improve robustness against obfuscated spam messages.\n",
            "Disadvantages: Defending against adversarial attacks can increase computational overhead and reduce model efficiency.\n",
            "Reference: [Authors' names]. (Year). Adversarial Attacks and Defense Mechanisms in SMS Spam Filtering. [Journal Name], Volume, [Page Numbers].11. Multi-Modal Learning for SMS Security: Combining Text and Metadata FeaturesAuthors: [Authors' names]\n",
            "Summary: This study explores multi-modal learning techniques that combine text-based features and metadata (e.g., sender, time, frequency) for more accurate SMS spam detection.\n",
            "Disadvantages: Integrating multiple data modalities can complicate model design and increase training time.\n",
            "Reference: [Authors' names]. (Year). Multi-Modal Learning for SMS Security. [Journal Name], Volume, [Page Numbers].12. Attention-Based Transformers for Phishing SMS DetectionAuthors: [Authors' names]\n",
            "Summary: This paper investigates the use of attention-based transformer models for detecting phishing SMS messages, focusing on how the attention mechanism can help identify phishing patterns.\n",
            "Disadvantages: Attention mechanisms, while powerful, can be computationally expensive and require large datasets for effective training.\n",
            "Reference: [Authors' names]. (Year). Attention-Based Transformers for Phishing SMS Detection. [Journal Name], Volume, [Page Numbers].13. Lexical and Semantic Feature Engineering for SMS Spam ClassificationAuthors: [Authors' names]\n",
            "Summary: This paper focuses on improving feature engineering for SMS spam detection by incorporating both lexical (word-level) and semantic (meaning-based) features to enhance classification performance.\n",
            "Disadvantages: Feature engineering requires domain expertise and can lead to model overfitting if not carefully managed.\n",
            "Reference: [Authors' names]. (Year). Lexical and Semantic Feature Engineering for SMS Spam Classification. [Journal Name], Volume, [Page Numbers].14. A Novel Hybrid CNN-BiLSTM Model for SMS Spam DetectionAuthors: [Authors' names]\n",
            "Summary: This study proposes a hybrid model combining Convolutional Neural Networks (CNN) and Bidirectional Long Short-Term Memory (BiLSTM) networks to capture both local and global features for SMS spam detection.\n",
            "Disadvantages: Combining CNN and BiLSTM can increase model complexity and training time.\n",
            "Reference: [Authors' names]. (Year). A Novel Hybrid CNN-BiLSTM Model for SMS Spam Detection. [Journal Name], Volume, [Page Numbers].15. Leveraging Word Embeddings and Deep Learning for SMS Spam FilteringAuthors: [Authors' names]\n",
            "Summary: This paper investigates the use of word embeddings (e.g., Word2Vec, GloVe) alongside deep learning models (e.g., LSTM) to improve the accuracy and robustness of SMS spam filtering systems.\n",
            "Disadvantages: Word embeddings require a large corpus of labeled data for training, which may not always be available.\n",
            "Reference: [Authors' names]. (Year). Leveraging Word Embeddings and Deep Learning for SMS Spam Filtering. [Journal Name], Volume, [Page Numbers].16. An Efficient SMS Spam Detection System Using Reinforcement LearningAuthors: [Authors' names]\n",
            "Summary: This study explores the use of reinforcement learning (RL) techniques to develop an SMS spam detection system that adapts and improves over time based on feedback from past predictions.\n",
            "Disadvantages: RL models can be complex to implement and require a large number of interactions to train effectively.\n",
            "Reference: [Authors' names]. (Year). An Efficient SMS Spam Detection System Using Reinforcement Learning. [Journal Name], Volume, [Page Numbers].17. Sentiment Analysis and SMS Spam Detection: A Dual-Layer NLP ApproachAuthors: [Authors' names]\n",
            "Summary: This research combines sentiment analysis with SMS spam detection, utilizing a dual-layer NLP model to capture both emotional tone and spam characteristics in SMS messages.\n",
            "Disadvantages: Combining sentiment analysis with spam detection can introduce ambiguity in messages with mixed sentiments, affecting classification accuracy.\n",
            "Reference: [Authors' names]. (Year). Sentiment Analysis and SMS Spam Detection. [Journal Name], Volume, [Page Numbers].18. Detecting Malicious SMS Attacks with AI-Driven Language ModelsAuthors: [Authors' names]\n",
            "Summary: This paper leverages AI-driven language models to detect malicious SMS messages, focusing on advanced techniques like GPT for understanding context and identifying harmful content.\n",
            "Disadvantages: AI-driven models can sometimes produce false positives, leading to unnecessary flagging of legitimate messages.\n",
            "Reference: [Authors' names]. (Year). Detecting Malicious SMS Attacks with AI-Driven Language Models. [Journal Name], Volume, [Page Numbers].19. Automating SMS Security: Integrating AI with Cloud-Based Spam FiltersAuthors: [Authors' names]\n",
            "Summary: This paper integrates AI models with cloud-based spam filters to automate SMS security and enhance scalability across multiple devices.\n",
            "Disadvantages: Reliance on cloud-based systems may raise concerns about data privacy and latency.\n",
            "Reference: [Authors' names]. (Year). Automating SMS Security with Cloud-Based Spam Filters. [Journal Name], Volume, [Page Numbers].20. Cyber Threat Intelligence for SMS Security: Trends and Future DirectionsAuthors: [Authors' names]\n",
            "Summary: This survey examines the trends in cyber threat intelligence for SMS security and explores the future directions of research, including AI, machine learning, and data mining techniques.\n",
            "Disadvantages: The fast-evolving nature of cyber threats makes it difficult to predict future attack vectors and challenges.\n",
            "Reference: [Authors' names]. (Year). Cyber Threat Intelligence for SMS Security. [Journal Name], Volume, [Page Numbers].\n"
          ]
        }
      ]
    },
    {
      "cell_type": "code",
      "source": [
        "for i in range(len(document.paragraphs)):\n",
        "    print(\"The content of the paragraph \"+ str(i)+\" is ：\" + document.paragraphs[i].text+\"\\n\")"
      ],
      "metadata": {
        "colab": {
          "base_uri": "https://localhost:8080/"
        },
        "id": "D0UYL8M-t6lf",
        "outputId": "3d5d89e3-5522-4abc-9e11-a8d9ff82fa2a"
      },
      "execution_count": 25,
      "outputs": [
        {
          "output_type": "stream",
          "name": "stdout",
          "text": [
            "The content of the paragraph 0 is ：\n",
            "\n",
            "The content of the paragraph 1 is ：\n",
            "\n",
            "The content of the paragraph 2 is ：\n",
            "\n",
            "The content of the paragraph 3 is ：Title: Enhancing SMS Security with NLP-Based Spam Detection \n",
            "\n",
            "The content of the paragraph 4 is ：Batch & Section: GT-16 & Gamma\n",
            "\n",
            "The content of the paragraph 5 is ：\n",
            "\n",
            "The content of the paragraph 6 is ：\n",
            "\n",
            "The content of the paragraph 7 is ：Literature Survey\n",
            "\n",
            "The content of the paragraph 8 is ：Title1. SMS Spam Detection and Classification to Combat Abuse in Telephone Networks Using Natural Language Processing\n",
            "\n",
            "The content of the paragraph 9 is ：Authors: Dare Azeez Oyeyemi, Adebola K. Ojo\n",
            "Summary: This study introduces an NLP-based approach to detect and classify SMS spam using machine learning models, particularly BERT. Preprocessing techniques such as stop word removal and tokenization are applied, followed by feature extraction using BERT. Various machine learning models, including Naïve Bayes, SVM, and Logistic Regression, are integrated with BERT. Results show that the Naïve Bayes classifier with BERT achieves the highest accuracy of 97.31%.\n",
            "Disadvantages: The study does not address the computational complexity of BERT-based models, making real-time deployment challenging.\n",
            "Reference: Oyeyemi, D. A., & Ojo, A. K. (2022). SMS Spam Detection and Classification Using NLP. International Journal of Computer Science and Security, 18(3), 45-58.\n",
            "\n",
            "The content of the paragraph 10 is ：\n",
            "\n",
            "The content of the paragraph 11 is ：2. ExplainableDetector: Exploring Transformer-Based Language Modeling Approach for SMS Spam Detection with Explainability Analysis\n",
            "\n",
            "The content of the paragraph 12 is ：Authors: Mohammad Amaz Uddin, Muhammad Nazrul Islam, Leandros Maglaras, Helge Janicke, Iqbal H. Sarker\n",
            "Summary: This research employs transformer-based language models for spam detection. A benchmark SMS spam dataset is preprocessed, and class imbalance is handled using text augmentation. Fine-tuned RoBERTa achieves an accuracy of 99.84%. Explainable AI (XAI) techniques are applied to make the detection process more interpretable.\n",
            "Disadvantages: While model explainability is improved, the study does not discuss practical deployment challenges in low-resource environments.\n",
            "Reference: Uddin, M. A., Islam, M. N., Maglaras, L., Janicke, H., & Sarker, I. H. (2023). Explainable AI for SMS Spam Detection. Journal of Artificial Intelligence Research, 35(2), 112-130.\n",
            "\n",
            "The content of the paragraph 13 is ：\n",
            "\n",
            "The content of the paragraph 14 is ：3. Using BERT Encoding to Tackle the Mad-lib Attack in SMS Spam Detection\n",
            "\n",
            "The content of the paragraph 15 is ：Authors: John Doe, Alice Smith\n",
            "Summary: This paper examines the impact of adversarial attacks, such as the Mad-lib attack, on SMS spam detection models. The study proposes a BERT-based model that adapts dynamically to adversarial inputs, improving robustness against obfuscated spam messages.\n",
            "Disadvantages: The approach requires large computational power, making real-time processing difficult.\n",
            "Reference: Doe, J., & Smith, A. (2022). BERT Encoding for Robust SMS Spam Detection. IEEE Transactions on Information Security, 29(4), 199-214.\n",
            "\n",
            "The content of the paragraph 16 is ：\n",
            "\n",
            "The content of the paragraph 17 is ：4. Hybrid NLP Models for Spam Detection in SMS Communication\n",
            "\n",
            "The content of the paragraph 18 is ：Authors: [Authors' names]\n",
            "Summary: This study explores hybrid NLP models combining traditional machine learning techniques (like SVM, Naïve Bayes) with deep learning approaches (like LSTM, CNN). The goal is to enhance the accuracy of spam detection by leveraging the strengths of both methods.\n",
            "Disadvantages: Hybrid models can be more computationally expensive and require fine-tuning to optimize performance.\n",
            "Reference: [Authors' names]. (Year). Hybrid NLP Models for Spam Detection. [Journal Name], Volume, [Page Numbers].\n",
            "\n",
            "The content of the paragraph 19 is ：\n",
            "\n",
            "The content of the paragraph 20 is ：5. BERT-Based SMS Spam Classification for Enhanced Mobile Security\n",
            "\n",
            "The content of the paragraph 21 is ：Authors: [Authors' names]\n",
            "Summary: This research demonstrates how BERT-based models can be applied to SMS spam classification to enhance mobile security. It leverages BERT’s context understanding to improve detection accuracy.\n",
            "Disadvantages: The BERT model’s computational complexity could make it challenging for real-time applications.\n",
            "Reference: [Authors' names]. (Year). BERT-Based SMS Spam Classification. [Journal Name], Volume, [Page Numbers].\n",
            "\n",
            "The content of the paragraph 22 is ：\n",
            "\n",
            "The content of the paragraph 23 is ：6. Federated Learning for Privacy-Preserving SMS Spam Detection\n",
            "\n",
            "The content of the paragraph 24 is ：Authors: [Authors' names]\n",
            "Summary: This paper proposes using federated learning to train SMS spam detection models across multiple devices without sharing user data, ensuring privacy and security.\n",
            "Disadvantages: Federated learning can suffer from slower convergence and requires effective handling of model synchronization.\n",
            "Reference: [Authors' names]. (Year). Federated Learning for Privacy-Preserving SMS Spam Detection. [Journal Name], Volume, [Page Numbers].\n",
            "\n",
            "The content of the paragraph 25 is ：\n",
            "\n",
            "The content of the paragraph 26 is ：7. Real-Time SMS Spam Filtering Using Lightweight NLP Techniques\n",
            "\n",
            "The content of the paragraph 27 is ：Authors: [Authors' names]\n",
            "Summary: This study focuses on developing real-time SMS spam filtering models using lightweight NLP techniques like fast text embedding and shallow neural networks to reduce processing time.\n",
            "Disadvantages: Lightweight models may trade off some accuracy for speed.\n",
            "Reference: [Authors' names]. (Year). Real-Time SMS Spam Filtering Using Lightweight NLP Techniques. [Journal Name], Volume, [Page Numbers].\n",
            "\n",
            "The content of the paragraph 28 is ：\n",
            "\n",
            "The content of the paragraph 29 is ：8. Improving SMS Spam Detection with Explainable AI (XAI) Models\n",
            "\n",
            "The content of the paragraph 30 is ：Authors: [Authors' names]\n",
            "Summary: This paper investigates the application of Explainable AI (XAI) techniques for SMS spam detection. The goal is to increase model transparency and user trust in AI-based filtering systems.\n",
            "Disadvantages: XAI techniques may introduce additional complexity and reduce model accuracy.\n",
            "Reference: [Authors' names]. (Year). Improving SMS Spam Detection with XAI Models. [Journal Name], Volume, [Page Numbers].\n",
            "\n",
            "The content of the paragraph 31 is ：\n",
            "\n",
            "The content of the paragraph 32 is ：9. Context-Aware SMS Spam Detection Using Named Entity Recognition (NER)\n",
            "\n",
            "The content of the paragraph 33 is ：Authors: [Authors' names]\n",
            "Summary: The paper proposes using Named Entity Recognition (NER) to identify specific entities (e.g., company names, product names) in SMS and improve spam detection by considering the context.\n",
            "Disadvantages: NER models are sensitive to language variation and could lead to misclassification in non-standard text formats.\n",
            "Reference: [Authors' names]. (Year). Context-Aware SMS Spam Detection Using NER. [Journal Name], Volume, [Page Numbers].\n",
            "\n",
            "The content of the paragraph 34 is ：\n",
            "\n",
            "The content of the paragraph 35 is ：10. Adversarial Attacks and Defense Mechanisms in NLP-Based SMS Spam Filtering\n",
            "\n",
            "The content of the paragraph 36 is ：Authors: [Authors' names]\n",
            "Summary: This research discusses adversarial attacks on NLP-based spam filters and proposes defense mechanisms such as adversarial training to improve robustness against obfuscated spam messages.\n",
            "Disadvantages: Defending against adversarial attacks can increase computational overhead and reduce model efficiency.\n",
            "Reference: [Authors' names]. (Year). Adversarial Attacks and Defense Mechanisms in SMS Spam Filtering. [Journal Name], Volume, [Page Numbers].\n",
            "\n",
            "The content of the paragraph 37 is ：\n",
            "\n",
            "The content of the paragraph 38 is ：11. Multi-Modal Learning for SMS Security: Combining Text and Metadata Features\n",
            "\n",
            "The content of the paragraph 39 is ：Authors: [Authors' names]\n",
            "Summary: This study explores multi-modal learning techniques that combine text-based features and metadata (e.g., sender, time, frequency) for more accurate SMS spam detection.\n",
            "Disadvantages: Integrating multiple data modalities can complicate model design and increase training time.\n",
            "Reference: [Authors' names]. (Year). Multi-Modal Learning for SMS Security. [Journal Name], Volume, [Page Numbers].\n",
            "\n",
            "The content of the paragraph 40 is ：\n",
            "\n",
            "The content of the paragraph 41 is ：12. Attention-Based Transformers for Phishing SMS Detection\n",
            "\n",
            "The content of the paragraph 42 is ：Authors: [Authors' names]\n",
            "Summary: This paper investigates the use of attention-based transformer models for detecting phishing SMS messages, focusing on how the attention mechanism can help identify phishing patterns.\n",
            "Disadvantages: Attention mechanisms, while powerful, can be computationally expensive and require large datasets for effective training.\n",
            "Reference: [Authors' names]. (Year). Attention-Based Transformers for Phishing SMS Detection. [Journal Name], Volume, [Page Numbers].\n",
            "\n",
            "The content of the paragraph 43 is ：\n",
            "\n",
            "The content of the paragraph 44 is ：13. Lexical and Semantic Feature Engineering for SMS Spam Classification\n",
            "\n",
            "The content of the paragraph 45 is ：Authors: [Authors' names]\n",
            "Summary: This paper focuses on improving feature engineering for SMS spam detection by incorporating both lexical (word-level) and semantic (meaning-based) features to enhance classification performance.\n",
            "Disadvantages: Feature engineering requires domain expertise and can lead to model overfitting if not carefully managed.\n",
            "Reference: [Authors' names]. (Year). Lexical and Semantic Feature Engineering for SMS Spam Classification. [Journal Name], Volume, [Page Numbers].\n",
            "\n",
            "The content of the paragraph 46 is ：\n",
            "\n",
            "The content of the paragraph 47 is ：14. A Novel Hybrid CNN-BiLSTM Model for SMS Spam Detection\n",
            "\n",
            "The content of the paragraph 48 is ：Authors: [Authors' names]\n",
            "Summary: This study proposes a hybrid model combining Convolutional Neural Networks (CNN) and Bidirectional Long Short-Term Memory (BiLSTM) networks to capture both local and global features for SMS spam detection.\n",
            "Disadvantages: Combining CNN and BiLSTM can increase model complexity and training time.\n",
            "Reference: [Authors' names]. (Year). A Novel Hybrid CNN-BiLSTM Model for SMS Spam Detection. [Journal Name], Volume, [Page Numbers].\n",
            "\n",
            "The content of the paragraph 49 is ：\n",
            "\n",
            "The content of the paragraph 50 is ：15. Leveraging Word Embeddings and Deep Learning for SMS Spam Filtering\n",
            "\n",
            "The content of the paragraph 51 is ：Authors: [Authors' names]\n",
            "Summary: This paper investigates the use of word embeddings (e.g., Word2Vec, GloVe) alongside deep learning models (e.g., LSTM) to improve the accuracy and robustness of SMS spam filtering systems.\n",
            "Disadvantages: Word embeddings require a large corpus of labeled data for training, which may not always be available.\n",
            "Reference: [Authors' names]. (Year). Leveraging Word Embeddings and Deep Learning for SMS Spam Filtering. [Journal Name], Volume, [Page Numbers].\n",
            "\n",
            "The content of the paragraph 52 is ：\n",
            "\n",
            "The content of the paragraph 53 is ：16. An Efficient SMS Spam Detection System Using Reinforcement Learning\n",
            "\n",
            "The content of the paragraph 54 is ：Authors: [Authors' names]\n",
            "Summary: This study explores the use of reinforcement learning (RL) techniques to develop an SMS spam detection system that adapts and improves over time based on feedback from past predictions.\n",
            "Disadvantages: RL models can be complex to implement and require a large number of interactions to train effectively.\n",
            "Reference: [Authors' names]. (Year). An Efficient SMS Spam Detection System Using Reinforcement Learning. [Journal Name], Volume, [Page Numbers].\n",
            "\n",
            "The content of the paragraph 55 is ：\n",
            "\n",
            "The content of the paragraph 56 is ：17. Sentiment Analysis and SMS Spam Detection: A Dual-Layer NLP Approach\n",
            "\n",
            "The content of the paragraph 57 is ：Authors: [Authors' names]\n",
            "Summary: This research combines sentiment analysis with SMS spam detection, utilizing a dual-layer NLP model to capture both emotional tone and spam characteristics in SMS messages.\n",
            "Disadvantages: Combining sentiment analysis with spam detection can introduce ambiguity in messages with mixed sentiments, affecting classification accuracy.\n",
            "Reference: [Authors' names]. (Year). Sentiment Analysis and SMS Spam Detection. [Journal Name], Volume, [Page Numbers].\n",
            "\n",
            "The content of the paragraph 58 is ：\n",
            "\n",
            "The content of the paragraph 59 is ：18. Detecting Malicious SMS Attacks with AI-Driven Language Models\n",
            "\n",
            "The content of the paragraph 60 is ：Authors: [Authors' names]\n",
            "Summary: This paper leverages AI-driven language models to detect malicious SMS messages, focusing on advanced techniques like GPT for understanding context and identifying harmful content.\n",
            "Disadvantages: AI-driven models can sometimes produce false positives, leading to unnecessary flagging of legitimate messages.\n",
            "Reference: [Authors' names]. (Year). Detecting Malicious SMS Attacks with AI-Driven Language Models. [Journal Name], Volume, [Page Numbers].\n",
            "\n",
            "The content of the paragraph 61 is ：\n",
            "\n",
            "The content of the paragraph 62 is ：19. Automating SMS Security: Integrating AI with Cloud-Based Spam Filters\n",
            "\n",
            "The content of the paragraph 63 is ：Authors: [Authors' names]\n",
            "Summary: This paper integrates AI models with cloud-based spam filters to automate SMS security and enhance scalability across multiple devices.\n",
            "Disadvantages: Reliance on cloud-based systems may raise concerns about data privacy and latency.\n",
            "Reference: [Authors' names]. (Year). Automating SMS Security with Cloud-Based Spam Filters. [Journal Name], Volume, [Page Numbers].\n",
            "\n",
            "The content of the paragraph 64 is ：\n",
            "\n",
            "The content of the paragraph 65 is ：20. Cyber Threat Intelligence for SMS Security: Trends and Future Directions\n",
            "\n",
            "The content of the paragraph 66 is ：Authors: [Authors' names]\n",
            "Summary: This survey examines the trends in cyber threat intelligence for SMS security and explores the future directions of research, including AI, machine learning, and data mining techniques.\n",
            "Disadvantages: The fast-evolving nature of cyber threats makes it difficult to predict future attack vectors and challenges.\n",
            "Reference: [Authors' names]. (Year). Cyber Threat Intelligence for SMS Security. [Journal Name], Volume, [Page Numbers].\n",
            "\n",
            "The content of the paragraph 67 is ：\n",
            "\n"
          ]
        }
      ]
    },
    {
      "cell_type": "code",
      "source": [],
      "metadata": {
        "id": "PvMOVOTPuSyo"
      },
      "execution_count": null,
      "outputs": []
    }
  ]
}